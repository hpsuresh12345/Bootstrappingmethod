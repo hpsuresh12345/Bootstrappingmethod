{
  "nbformat": 4,
  "nbformat_minor": 0,
  "metadata": {
    "colab": {
      "name": "Bootstrap.ipynb",
      "provenance": []
    },
    "kernelspec": {
      "name": "python3",
      "display_name": "Python 3"
    },
    "language_info": {
      "name": "python"
    }
  },
  "cells": [
    {
      "cell_type": "markdown",
      "metadata": {
        "id": "08c4oTrZ4k3b"
      },
      "source": [
        "Bootstrap Simulation"
      ]
    },
    {
      "cell_type": "code",
      "metadata": {
        "id": "mp4l1KEo4etM"
      },
      "source": [
        "import numpy as np\n",
        "import matplotlib.pyplot as plt"
      ],
      "execution_count": 1,
      "outputs": []
    },
    {
      "cell_type": "code",
      "metadata": {
        "colab": {
          "base_uri": "https://localhost:8080/"
        },
        "id": "6jI_mJoD4oF7",
        "outputId": "dd49f010-9102-42d0-ea8d-cdb38c922a12"
      },
      "source": [
        "# construct a population pickups for our lab\n",
        "np.random.seed(42)\n",
        "pickups = np.random.randint(0,500 , size=100)\n",
        "pickups"
      ],
      "execution_count": 2,
      "outputs": [
        {
          "output_type": "execute_result",
          "data": {
            "text/plain": [
              "array([102, 435, 348, 270, 106,  71, 188,  20, 102, 121, 466, 214, 330,\n",
              "       458,  87, 372,  99, 359, 151, 130, 149, 308, 257, 343, 491, 413,\n",
              "       293, 385, 191, 443, 276, 160, 459, 313,  21, 252, 235, 344,  48,\n",
              "       474,  58, 169, 475, 187, 463, 270, 189, 445, 174, 445,  50, 363,\n",
              "        54, 243, 319, 130, 484, 306, 134,  20, 328, 166, 273, 387,  88,\n",
              "       315,  13, 241, 264, 345,  52, 385, 339,  91, 366, 443, 454, 427,\n",
              "       263, 430,  34, 205,  80, 419,  49, 359, 387,   1, 389,  53, 105,\n",
              "       259, 309, 476, 190, 401, 217,  43, 161, 201])"
            ]
          },
          "metadata": {
            "tags": []
          },
          "execution_count": 2
        }
      ]
    },
    {
      "cell_type": "code",
      "metadata": {
        "colab": {
          "base_uri": "https://localhost:8080/"
        },
        "id": "qHeQHsYd4qwL",
        "outputId": "320f0ad3-3128-466d-b86f-fbbccee4f3ff"
      },
      "source": [
        "# population mean\n",
        "pickups.mean()\n"
      ],
      "execution_count": 3,
      "outputs": [
        {
          "output_type": "execute_result",
          "data": {
            "text/plain": [
              "252.7"
            ]
          },
          "metadata": {
            "tags": []
          },
          "execution_count": 3
        }
      ]
    },
    {
      "cell_type": "code",
      "metadata": {
        "colab": {
          "base_uri": "https://localhost:8080/"
        },
        "id": "H6CZfmz-4td-",
        "outputId": "673f4f4a-9b9b-403f-e743-221813e9929d"
      },
      "source": [
        "# population standard deviation\n",
        "pickups.std()"
      ],
      "execution_count": 4,
      "outputs": [
        {
          "output_type": "execute_result",
          "data": {
            "text/plain": [
              "144.25342283634035"
            ]
          },
          "metadata": {
            "tags": []
          },
          "execution_count": 4
        }
      ]
    },
    {
      "cell_type": "code",
      "metadata": {
        "colab": {
          "base_uri": "https://localhost:8080/"
        },
        "id": "vu1Hmanh4vap",
        "outputId": "d7cbf354-580b-449e-9876-21d13026ae55"
      },
      "source": [
        "# draw a sample from population\n",
        "sample = np.random.choice(pickups, size=30)\n",
        "sample"
      ],
      "execution_count": 5,
      "outputs": [
        {
          "output_type": "execute_result",
          "data": {
            "text/plain": [
              "array([166, 201, 458, 190, 445,  87, 385, 427, 387, 166, 474,  49, 430,\n",
              "       205,  54, 343, 413, 389,  20,  58, 191,  87, 463,  88, 389,  52,\n",
              "       102,   1, 102,  20])"
            ]
          },
          "metadata": {
            "tags": []
          },
          "execution_count": 5
        }
      ]
    },
    {
      "cell_type": "code",
      "metadata": {
        "colab": {
          "base_uri": "https://localhost:8080/"
        },
        "id": "-VblyD464xMC",
        "outputId": "465fad8d-79f1-47d2-f4bb-d5ea2044070e"
      },
      "source": [
        "# our first sample mean\n",
        "sample_mean = sample.mean()\n",
        "sample_mean"
      ],
      "execution_count": 6,
      "outputs": [
        {
          "output_type": "execute_result",
          "data": {
            "text/plain": [
              "228.06666666666666"
            ]
          },
          "metadata": {
            "tags": []
          },
          "execution_count": 6
        }
      ]
    },
    {
      "cell_type": "code",
      "metadata": {
        "colab": {
          "base_uri": "https://localhost:8080/"
        },
        "id": "-blYQTU84zC9",
        "outputId": "feb7629c-921f-4b48-db36-0b271062af18"
      },
      "source": [
        "# standard deviation for this sample\n",
        "sample_std = np.std(sample, ddof=1)\n",
        "sample_std"
      ],
      "execution_count": 7,
      "outputs": [
        {
          "output_type": "execute_result",
          "data": {
            "text/plain": [
              "166.96890756052164"
            ]
          },
          "metadata": {
            "tags": []
          },
          "execution_count": 7
        }
      ]
    },
    {
      "cell_type": "code",
      "metadata": {
        "colab": {
          "base_uri": "https://localhost:8080/"
        },
        "id": "gxdWiFdX40u-",
        "outputId": "a84e0609-92f4-44c8-db5a-0ea3cdaa62b7"
      },
      "source": [
        "# estimated standard error for sapmle mann\n",
        "sample_std/(30 ** 0.5)"
      ],
      "execution_count": 8,
      "outputs": [
        {
          "output_type": "execute_result",
          "data": {
            "text/plain": [
              "30.48421235763086"
            ]
          },
          "metadata": {
            "tags": []
          },
          "execution_count": 8
        }
      ]
    },
    {
      "cell_type": "code",
      "metadata": {
        "colab": {
          "base_uri": "https://localhost:8080/"
        },
        "id": "GsF71fTT44Dx",
        "outputId": "48e7b1a2-83bc-4657-8acd-397bc9b7a53d"
      },
      "source": [
        "# theorical standard error for sapmle mann\n",
        "pickups.std()/(30 ** 0.5)"
      ],
      "execution_count": 9,
      "outputs": [
        {
          "output_type": "execute_result",
          "data": {
            "text/plain": [
              "26.336951228264823"
            ]
          },
          "metadata": {
            "tags": []
          },
          "execution_count": 9
        }
      ]
    },
    {
      "cell_type": "code",
      "metadata": {
        "id": "dxvI2GGD46Tl"
      },
      "source": [
        "# construct the simulated sampling distribution\n",
        "sample_props = []\n",
        "for _ in range(100000):\n",
        "    sample = np.random.choice(pickups, size=30)\n",
        "    sample_props.append(sample.mean())"
      ],
      "execution_count": 10,
      "outputs": []
    },
    {
      "cell_type": "code",
      "metadata": {
        "id": "jYOTQqni48KV"
      },
      "source": [
        "# the simulated mean of the sampling distribution\n",
        "simulated_mean = np.mean(sample_props)"
      ],
      "execution_count": 11,
      "outputs": []
    },
    {
      "cell_type": "code",
      "metadata": {
        "id": "akIBIJ3_4-qa"
      },
      "source": [
        "# the simulated standard deviation of the sampling distribution\n",
        "simulated_std = np.std(sample_props)"
      ],
      "execution_count": 12,
      "outputs": []
    },
    {
      "cell_type": "code",
      "metadata": {
        "colab": {
          "base_uri": "https://localhost:8080/",
          "height": 367
        },
        "id": "4qmiU-Ar5BQp",
        "outputId": "3c295067-92b1-4d6e-edec-8a4d3e697752"
      },
      "source": [
        "# plot the simulated sampling distribution,\n",
        "# under the Central Limit Theorem,\n",
        "# it is expected normal\n",
        "plt.hist(sample_props)"
      ],
      "execution_count": 13,
      "outputs": [
        {
          "output_type": "execute_result",
          "data": {
            "text/plain": [
              "(array([1.7000e+01, 2.9400e+02, 3.0210e+03, 1.2917e+04, 2.8275e+04,\n",
              "        3.1747e+04, 1.7958e+04, 5.0680e+03, 6.6100e+02, 4.2000e+01]),\n",
              " array([136.76666667, 159.24666667, 181.72666667, 204.20666667,\n",
              "        226.68666667, 249.16666667, 271.64666667, 294.12666667,\n",
              "        316.60666667, 339.08666667, 361.56666667]),\n",
              " <a list of 10 Patch objects>)"
            ]
          },
          "metadata": {
            "tags": []
          },
          "execution_count": 13
        },
        {
          "output_type": "display_data",
          "data": {
            "image/png": "[encoded data removed]",
            "text/plain": [
              "<Figure size 432x288 with 1 Axes>"
            ]
          },
          "metadata": {
            "tags": [],
            "needs_background": "light"
          }
        }
      ]
    },
    {
      "cell_type": "code",
      "metadata": {
        "colab": {
          "base_uri": "https://localhost:8080/"
        },
        "id": "UCSzXckL5C7_",
        "outputId": "6061ae80-e9c6-4cab-e449-b7b7295561be"
      },
      "source": [
        "# the theorical mean and simulated mean\n",
        "(pickups.mean(), simulated_mean)"
      ],
      "execution_count": 14,
      "outputs": [
        {
          "output_type": "execute_result",
          "data": {
            "text/plain": [
              "(252.7, 252.74267033333336)"
            ]
          },
          "metadata": {
            "tags": []
          },
          "execution_count": 14
        }
      ]
    },
    {
      "cell_type": "code",
      "metadata": {
        "colab": {
          "base_uri": "https://localhost:8080/"
        },
        "id": "6NGB5HZJ5E8H",
        "outputId": "aae2fa11-fdfa-42d5-e510-a36cff3aa34f"
      },
      "source": [
        "# the theorical standard error and simulated standard error\n",
        "(pickups.std()/(30 ** 0.5), simulated_std)"
      ],
      "execution_count": 15,
      "outputs": [
        {
          "output_type": "execute_result",
          "data": {
            "text/plain": [
              "(26.336951228264823, 26.327169537452452)"
            ]
          },
          "metadata": {
            "tags": []
          },
          "execution_count": 15
        }
      ]
    },
    {
      "cell_type": "code",
      "metadata": {
        "id": "6WbpvTRu5Gen"
      },
      "source": [
        ""
      ],
      "execution_count": null,
      "outputs": []
    }
  ]
}